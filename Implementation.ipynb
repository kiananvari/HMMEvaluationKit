{
  "cells": [
    {
      "cell_type": "code",
      "execution_count": 1,
      "metadata": {
        "id": "TaDOXAIiDhvj"
      },
      "outputs": [],
      "source": [
        "import numpy as np"
      ]
    },
    {
      "cell_type": "code",
      "execution_count": 2,
      "metadata": {
        "id": "fh-pGEIDD8F9"
      },
      "outputs": [],
      "source": [
        "# States of the HMM\n",
        "states = (\"Sunny\", \"Cloudy\", \"Rainy\")\n",
        "\n",
        "# Observations or events\n",
        "obs = (\"Study\", \"Hangout\", \"Sports\")\n",
        "\n",
        "# Start probability of each state\n",
        "start_prob = {\"Sunny\": 0.2, \"Cloudy\": 0.4, \"Rainy\": 0.4}\n",
        "\n",
        "# Transition probabilities between states\n",
        "trans_prob = {\n",
        "    \"Sunny\": [0.7, 0.2, 0.1],\n",
        "    \"Cloudy\": [0.1, 0.3, 0.3],\n",
        "    \"Rainy\": [0.2, 0.5, 0.6]\n",
        "}\n",
        "\n",
        "# Emission probabilities of each state for each observation\n",
        "emit_prob = {\n",
        "    \"Sunny\": {\"Study\": 0.2, \"Hangout\": 0.6, \"Sports\": 0.2},\n",
        "    \"Cloudy\": {\"Study\": 0.2, \"Hangout\": 0.4, \"Sports\": 0.4},\n",
        "    \"Rainy\": {\"Study\": 0.6, \"Hangout\": 0.1, \"Sports\": 0.3}\n",
        "}\n",
        "\n",
        "# Sequence of observations(Observations may change)\n",
        "input_obs = (\"Study\", \"Hangout\", \"Sports\")\n"
      ]
    },
    {
      "cell_type": "code",
      "execution_count": 16,
      "metadata": {
        "id": "bDfrtb7PD7y0"
      },
      "outputs": [],
      "source": [
        "def hmm_forward(observations, hidden_states, initial_state_probs, transition_probs, emission_probs):\n",
        "    alpha = np.zeros((len(observations), len(hidden_states)))\n",
        "    for i, state in enumerate(hidden_states):\n",
        "        alpha[0, i] = initial_state_probs[state] * emission_probs[state][observations[0]]\n",
        "\n",
        "    for t in range(1, len(observations)):\n",
        "        for i, state in enumerate(hidden_states):\n",
        "            alpha[t, i] = emission_probs[state][observations[t]] * np.sum(alpha[t-1] * transition_probs[state])\n",
        "\n",
        "    sequence_prob = np.sum(alpha[-1])\n",
        "\n",
        "    return sequence_prob, alpha"
      ]
    },
    {
      "cell_type": "code",
      "execution_count": 17,
      "metadata": {
        "id": "qcFBTQ72D8Yl"
      },
      "outputs": [],
      "source": [
        "# Calculate the probability of the input sequence using the forward algorithm\n",
        "prob, alpha = hmm_forward(input_obs, states, start_prob, trans_prob, emit_prob)"
      ]
    },
    {
      "cell_type": "code",
      "execution_count": 18,
      "metadata": {
        "colab": {
          "base_uri": "https://localhost:8080/"
        },
        "id": "tGP-sRKkD8rY",
        "outputId": "b84e7795-8577-4d5e-9157-2652206b9827"
      },
      "outputs": [
        {
          "output_type": "stream",
          "name": "stdout",
          "text": [
            "The probability of the input sequence ('Study', 'Hangout', 'Sports') is 0.02834\n"
          ]
        }
      ],
      "source": [
        "# Print the result\n",
        "print(\"The probability of the input sequence {} is {:.5f}\".format(input_obs, prob))"
      ]
    },
    {
      "cell_type": "code",
      "execution_count": null,
      "metadata": {
        "colab": {
          "base_uri": "https://localhost:8080/"
        },
        "id": "b_K2FByEEIe8",
        "outputId": "58231120-5658-4652-f488-36b7b770d342"
      },
      "outputs": [
        {
          "output_type": "stream",
          "name": "stdout",
          "text": [
            "The alpha matrix is:\n",
            "Obs.      Sunny     Cloudy    Rainy     \n",
            "1         0.04000   0.08000   0.24000   \n",
            "2         0.04080   0.04000   0.01920   \n",
            "3         0.00770   0.00874   0.01190   \n"
          ]
        }
      ],
      "source": [
        "# Print the alpha matrix with state and observation axes\n",
        "print(\"The alpha matrix is:\")\n",
        "print(\"{:<10}\".format(\"Obs.\"), end=\"\")\n",
        "for s in states:\n",
        "    print(\"{:<10}\".format(s), end=\"\")\n",
        "print(\"\")\n",
        "for t in range(len(input_obs)):\n",
        "    print(\"{:<10}\".format(t+1), end=\"\")\n",
        "    for i in range(len(states)):\n",
        "        print(\"{:<10.5f}\".format(alpha[t,i]), end=\"\")\n",
        "    print(\"\")"
      ]
    },
    {
      "cell_type": "code",
      "source": [],
      "metadata": {
        "id": "piaWhn-fZ5Qy"
      },
      "execution_count": null,
      "outputs": []
    }
  ],
  "metadata": {
    "colab": {
      "provenance": []
    },
    "kernelspec": {
      "display_name": "Python 3",
      "name": "python3"
    },
    "language_info": {
      "codemirror_mode": {
        "name": "ipython",
        "version": 3
      },
      "file_extension": ".py",
      "mimetype": "text/x-python",
      "name": "python",
      "nbconvert_exporter": "python",
      "pygments_lexer": "ipython3",
      "version": "3.10.7"
    }
  },
  "nbformat": 4,
  "nbformat_minor": 0
}